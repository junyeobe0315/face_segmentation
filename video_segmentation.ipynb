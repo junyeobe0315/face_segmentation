{
 "cells": [
  {
   "cell_type": "code",
   "execution_count": null,
   "id": "be23d3b7-1299-4a9f-8136-dd95948dc59f",
   "metadata": {},
   "outputs": [],
   "source": [
    "import os\n",
    "import random\n",
    "import cv2\n",
    "import sys\n",
    "\n",
    "import matplotlib.pyplot as plt\n",
    "from PIL import Image\n",
    "\n",
    "path_output = \"./video/output/\"\n",
    "\n",
    "imagePath = sys.argv[1]\n",
    "cascPath = \"haarcascade_frontalface_default.xml\"\n",
    "\n",
    "for (root, directories, f) in os.walk(path_output):\n",
    "    for file in f:\n",
    "        imagePath = os.path.join(root, file)\n",
    "        faceCascade = cv2.CascadeClassifier(cascPath)\n",
    "        image = cv2.imread(imagePath)\n",
    "        gray = cv2.cvtColor(image, cv2.COLOR_BGR2GRAY)\n",
    "        faces = faceCascade.detectMultiScale(gray, scaleFactor=1.1, minNeighbors=5, minSize=(30, 30))\n",
    "        for (x, y, w, h) in faces:\n",
    "            cv2.rectangle(image, (x, y), (x+w, y+h), (0, 255, 0), 2)\n",
    "        cv2.imshow(\"Faces found\", image)\n",
    "        cv2.waitKey(0)"
   ]
  },
  {
   "cell_type": "code",
   "execution_count": null,
   "id": "0abd6cd4-5705-4c68-b909-69f172f4f15b",
   "metadata": {},
   "outputs": [],
   "source": []
  }
 ],
 "metadata": {
  "kernelspec": {
   "display_name": "Python 3 (ipykernel)",
   "language": "python",
   "name": "python3"
  },
  "language_info": {
   "codemirror_mode": {
    "name": "ipython",
    "version": 3
   },
   "file_extension": ".py",
   "mimetype": "text/x-python",
   "name": "python",
   "nbconvert_exporter": "python",
   "pygments_lexer": "ipython3",
   "version": "3.10.4"
  }
 },
 "nbformat": 4,
 "nbformat_minor": 5
}
